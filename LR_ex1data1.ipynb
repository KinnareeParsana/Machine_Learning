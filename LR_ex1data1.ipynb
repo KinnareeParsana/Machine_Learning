{
  "nbformat": 4,
  "nbformat_minor": 0,
  "metadata": {
    "colab": {
      "name": "LR_ex1data1.ipynb",
      "provenance": [],
      "collapsed_sections": []
    },
    "kernelspec": {
      "name": "python3",
      "display_name": "Python 3"
    }
  },
  "cells": [
    {
      "cell_type": "code",
      "metadata": {
        "id": "fD_8AnyZrMIx"
      },
      "source": [
        "import numpy as np\n",
        "import matplotlib.pyplot as plt\n",
        "import pandas as pd"
      ],
      "execution_count": null,
      "outputs": []
    },
    {
      "cell_type": "code",
      "metadata": {
        "id": "vyL24akksGAV"
      },
      "source": [
        "from google.colab import drive"
      ],
      "execution_count": null,
      "outputs": []
    },
    {
      "cell_type": "code",
      "metadata": {
        "id": "FeTIi2rvsGTO",
        "colab": {
          "base_uri": "https://localhost:8080/"
        },
        "outputId": "7709f43f-838c-4d1c-ebe8-d9577eacfe16"
      },
      "source": [
        "drive.mount('/content/drive')"
      ],
      "execution_count": null,
      "outputs": [
        {
          "output_type": "stream",
          "text": [
            "Mounted at /content/drive\n"
          ],
          "name": "stdout"
        }
      ]
    },
    {
      "cell_type": "code",
      "metadata": {
        "id": "gPuTPl3lsGfO",
        "colab": {
          "base_uri": "https://localhost:8080/"
        },
        "outputId": "67ed2c51-bbe0-4ad8-9c53-ec0ae55b17d6"
      },
      "source": [
        "cd /content/drive/\"My Drive/Colab Notebooks/Linear regression\""
      ],
      "execution_count": null,
      "outputs": [
        {
          "output_type": "stream",
          "text": [
            "/content/drive/My Drive/Colab Notebooks/Linear regression\n"
          ],
          "name": "stdout"
        }
      ]
    },
    {
      "cell_type": "code",
      "metadata": {
        "id": "YzFW2HbitD5J",
        "colab": {
          "base_uri": "https://localhost:8080/"
        },
        "outputId": "69bd92dd-b64a-496c-c415-f3c9e10f7b31"
      },
      "source": [
        "#column['x','y']\n",
        "dataset=pd.read_csv('ex1data1.csv')\n",
        "print(dataset)\n",
        "dataset.shape"
      ],
      "execution_count": null,
      "outputs": [
        {
          "output_type": "stream",
          "text": [
            "          x         y\n",
            "0    6.1101  17.59200\n",
            "1    5.5277   9.13020\n",
            "2    8.5186  13.66200\n",
            "3    7.0032  11.85400\n",
            "4    5.8598   6.82330\n",
            "..      ...       ...\n",
            "92   5.8707   7.20290\n",
            "93   5.3054   1.98690\n",
            "94   8.2934   0.14454\n",
            "95  13.3940   9.05510\n",
            "96   5.4369   0.61705\n",
            "\n",
            "[97 rows x 2 columns]\n"
          ],
          "name": "stdout"
        },
        {
          "output_type": "execute_result",
          "data": {
            "text/plain": [
              "(97, 2)"
            ]
          },
          "metadata": {
            "tags": []
          },
          "execution_count": 6
        }
      ]
    },
    {
      "cell_type": "code",
      "metadata": {
        "id": "kz9H_f9muTBq",
        "colab": {
          "base_uri": "https://localhost:8080/",
          "height": 297
        },
        "outputId": "aba7a8e2-b198-4fcb-b36e-eb9840238ab8"
      },
      "source": [
        "dataf=pd.DataFrame(dataset)\n",
        "dataf.describe()#check nature of dataset"
      ],
      "execution_count": null,
      "outputs": [
        {
          "output_type": "execute_result",
          "data": {
            "text/html": [
              "<div>\n",
              "<style scoped>\n",
              "    .dataframe tbody tr th:only-of-type {\n",
              "        vertical-align: middle;\n",
              "    }\n",
              "\n",
              "    .dataframe tbody tr th {\n",
              "        vertical-align: top;\n",
              "    }\n",
              "\n",
              "    .dataframe thead th {\n",
              "        text-align: right;\n",
              "    }\n",
              "</style>\n",
              "<table border=\"1\" class=\"dataframe\">\n",
              "  <thead>\n",
              "    <tr style=\"text-align: right;\">\n",
              "      <th></th>\n",
              "      <th>x</th>\n",
              "      <th>y</th>\n",
              "    </tr>\n",
              "  </thead>\n",
              "  <tbody>\n",
              "    <tr>\n",
              "      <th>count</th>\n",
              "      <td>97.000000</td>\n",
              "      <td>97.000000</td>\n",
              "    </tr>\n",
              "    <tr>\n",
              "      <th>mean</th>\n",
              "      <td>8.159800</td>\n",
              "      <td>5.839135</td>\n",
              "    </tr>\n",
              "    <tr>\n",
              "      <th>std</th>\n",
              "      <td>3.869884</td>\n",
              "      <td>5.510262</td>\n",
              "    </tr>\n",
              "    <tr>\n",
              "      <th>min</th>\n",
              "      <td>5.026900</td>\n",
              "      <td>-2.680700</td>\n",
              "    </tr>\n",
              "    <tr>\n",
              "      <th>25%</th>\n",
              "      <td>5.707700</td>\n",
              "      <td>1.986900</td>\n",
              "    </tr>\n",
              "    <tr>\n",
              "      <th>50%</th>\n",
              "      <td>6.589400</td>\n",
              "      <td>4.562300</td>\n",
              "    </tr>\n",
              "    <tr>\n",
              "      <th>75%</th>\n",
              "      <td>8.578100</td>\n",
              "      <td>7.046700</td>\n",
              "    </tr>\n",
              "    <tr>\n",
              "      <th>max</th>\n",
              "      <td>22.203000</td>\n",
              "      <td>24.147000</td>\n",
              "    </tr>\n",
              "  </tbody>\n",
              "</table>\n",
              "</div>"
            ],
            "text/plain": [
              "               x          y\n",
              "count  97.000000  97.000000\n",
              "mean    8.159800   5.839135\n",
              "std     3.869884   5.510262\n",
              "min     5.026900  -2.680700\n",
              "25%     5.707700   1.986900\n",
              "50%     6.589400   4.562300\n",
              "75%     8.578100   7.046700\n",
              "max    22.203000  24.147000"
            ]
          },
          "metadata": {
            "tags": []
          },
          "execution_count": 7
        }
      ]
    },
    {
      "cell_type": "code",
      "metadata": {
        "id": "tahULZUkv_DX"
      },
      "source": [
        "#separating x and y\n",
        "x_value=dataf.iloc[0:97,0:1]"
      ],
      "execution_count": null,
      "outputs": []
    },
    {
      "cell_type": "code",
      "metadata": {
        "id": "njrkh03TwPew"
      },
      "source": [
        "y_value=dataf.iloc[0:97,1:2]"
      ],
      "execution_count": null,
      "outputs": []
    },
    {
      "cell_type": "code",
      "metadata": {
        "id": "ALdg1pA7wnUG",
        "colab": {
          "base_uri": "https://localhost:8080/",
          "height": 419
        },
        "outputId": "5f282652-de9f-47a5-f312-443cddba318f"
      },
      "source": [
        "x_value"
      ],
      "execution_count": null,
      "outputs": [
        {
          "output_type": "execute_result",
          "data": {
            "text/html": [
              "<div>\n",
              "<style scoped>\n",
              "    .dataframe tbody tr th:only-of-type {\n",
              "        vertical-align: middle;\n",
              "    }\n",
              "\n",
              "    .dataframe tbody tr th {\n",
              "        vertical-align: top;\n",
              "    }\n",
              "\n",
              "    .dataframe thead th {\n",
              "        text-align: right;\n",
              "    }\n",
              "</style>\n",
              "<table border=\"1\" class=\"dataframe\">\n",
              "  <thead>\n",
              "    <tr style=\"text-align: right;\">\n",
              "      <th></th>\n",
              "      <th>x</th>\n",
              "    </tr>\n",
              "  </thead>\n",
              "  <tbody>\n",
              "    <tr>\n",
              "      <th>0</th>\n",
              "      <td>6.1101</td>\n",
              "    </tr>\n",
              "    <tr>\n",
              "      <th>1</th>\n",
              "      <td>5.5277</td>\n",
              "    </tr>\n",
              "    <tr>\n",
              "      <th>2</th>\n",
              "      <td>8.5186</td>\n",
              "    </tr>\n",
              "    <tr>\n",
              "      <th>3</th>\n",
              "      <td>7.0032</td>\n",
              "    </tr>\n",
              "    <tr>\n",
              "      <th>4</th>\n",
              "      <td>5.8598</td>\n",
              "    </tr>\n",
              "    <tr>\n",
              "      <th>...</th>\n",
              "      <td>...</td>\n",
              "    </tr>\n",
              "    <tr>\n",
              "      <th>92</th>\n",
              "      <td>5.8707</td>\n",
              "    </tr>\n",
              "    <tr>\n",
              "      <th>93</th>\n",
              "      <td>5.3054</td>\n",
              "    </tr>\n",
              "    <tr>\n",
              "      <th>94</th>\n",
              "      <td>8.2934</td>\n",
              "    </tr>\n",
              "    <tr>\n",
              "      <th>95</th>\n",
              "      <td>13.3940</td>\n",
              "    </tr>\n",
              "    <tr>\n",
              "      <th>96</th>\n",
              "      <td>5.4369</td>\n",
              "    </tr>\n",
              "  </tbody>\n",
              "</table>\n",
              "<p>97 rows × 1 columns</p>\n",
              "</div>"
            ],
            "text/plain": [
              "          x\n",
              "0    6.1101\n",
              "1    5.5277\n",
              "2    8.5186\n",
              "3    7.0032\n",
              "4    5.8598\n",
              "..      ...\n",
              "92   5.8707\n",
              "93   5.3054\n",
              "94   8.2934\n",
              "95  13.3940\n",
              "96   5.4369\n",
              "\n",
              "[97 rows x 1 columns]"
            ]
          },
          "metadata": {
            "tags": []
          },
          "execution_count": 9
        }
      ]
    },
    {
      "cell_type": "code",
      "metadata": {
        "id": "7odYUtu8wnmK",
        "colab": {
          "base_uri": "https://localhost:8080/",
          "height": 419
        },
        "outputId": "4bda87c0-89e0-46de-edab-97b42b29c658"
      },
      "source": [
        "y_value"
      ],
      "execution_count": null,
      "outputs": [
        {
          "output_type": "execute_result",
          "data": {
            "text/html": [
              "<div>\n",
              "<style scoped>\n",
              "    .dataframe tbody tr th:only-of-type {\n",
              "        vertical-align: middle;\n",
              "    }\n",
              "\n",
              "    .dataframe tbody tr th {\n",
              "        vertical-align: top;\n",
              "    }\n",
              "\n",
              "    .dataframe thead th {\n",
              "        text-align: right;\n",
              "    }\n",
              "</style>\n",
              "<table border=\"1\" class=\"dataframe\">\n",
              "  <thead>\n",
              "    <tr style=\"text-align: right;\">\n",
              "      <th></th>\n",
              "      <th>y</th>\n",
              "    </tr>\n",
              "  </thead>\n",
              "  <tbody>\n",
              "    <tr>\n",
              "      <th>0</th>\n",
              "      <td>17.59200</td>\n",
              "    </tr>\n",
              "    <tr>\n",
              "      <th>1</th>\n",
              "      <td>9.13020</td>\n",
              "    </tr>\n",
              "    <tr>\n",
              "      <th>2</th>\n",
              "      <td>13.66200</td>\n",
              "    </tr>\n",
              "    <tr>\n",
              "      <th>3</th>\n",
              "      <td>11.85400</td>\n",
              "    </tr>\n",
              "    <tr>\n",
              "      <th>4</th>\n",
              "      <td>6.82330</td>\n",
              "    </tr>\n",
              "    <tr>\n",
              "      <th>...</th>\n",
              "      <td>...</td>\n",
              "    </tr>\n",
              "    <tr>\n",
              "      <th>92</th>\n",
              "      <td>7.20290</td>\n",
              "    </tr>\n",
              "    <tr>\n",
              "      <th>93</th>\n",
              "      <td>1.98690</td>\n",
              "    </tr>\n",
              "    <tr>\n",
              "      <th>94</th>\n",
              "      <td>0.14454</td>\n",
              "    </tr>\n",
              "    <tr>\n",
              "      <th>95</th>\n",
              "      <td>9.05510</td>\n",
              "    </tr>\n",
              "    <tr>\n",
              "      <th>96</th>\n",
              "      <td>0.61705</td>\n",
              "    </tr>\n",
              "  </tbody>\n",
              "</table>\n",
              "<p>97 rows × 1 columns</p>\n",
              "</div>"
            ],
            "text/plain": [
              "           y\n",
              "0   17.59200\n",
              "1    9.13020\n",
              "2   13.66200\n",
              "3   11.85400\n",
              "4    6.82330\n",
              "..       ...\n",
              "92   7.20290\n",
              "93   1.98690\n",
              "94   0.14454\n",
              "95   9.05510\n",
              "96   0.61705\n",
              "\n",
              "[97 rows x 1 columns]"
            ]
          },
          "metadata": {
            "tags": []
          },
          "execution_count": 11
        }
      ]
    },
    {
      "cell_type": "code",
      "metadata": {
        "id": "-Fdr-IUbyNAO",
        "colab": {
          "base_uri": "https://localhost:8080/",
          "height": 265
        },
        "outputId": "d412e3bc-c38f-4ea7-8fdb-d0f9202fb0af"
      },
      "source": [
        "x_box=x_value.boxplot(column=['x'])"
      ],
      "execution_count": null,
      "outputs": [
        {
          "output_type": "display_data",
          "data": {
            "image/png": "[encoded data removed]",
            "text/plain": [
              "<Figure size 432x288 with 1 Axes>"
            ]
          },
          "metadata": {
            "tags": [],
            "needs_background": "light"
          }
        }
      ]
    },
    {
      "cell_type": "code",
      "metadata": {
        "id": "ghKPSD94yd1v",
        "colab": {
          "base_uri": "https://localhost:8080/",
          "height": 266
        },
        "outputId": "d4011695-b402-4c74-c18f-8942df02197a"
      },
      "source": [
        "y_box=y_value.boxplot(column=['y'])"
      ],
      "execution_count": null,
      "outputs": [
        {
          "output_type": "display_data",
          "data": {
            "image/png": "[encoded data removed]",
            "text/plain": [
              "<Figure size 432x288 with 1 Axes>"
            ]
          },
          "metadata": {
            "tags": [],
            "needs_background": "light"
          }
        }
      ]
    },
    {
      "cell_type": "code",
      "metadata": {
        "id": "0spBIZN7ylwY",
        "colab": {
          "base_uri": "https://localhost:8080/",
          "height": 312
        },
        "outputId": "584ef2c6-2bb9-4878-9735-61dd96e9dfc6"
      },
      "source": [
        "import matplotlib.pyplot as plt\n",
        "plt.scatter(x_value,y_value)\n",
        "plt.xticks(np.arange(4,40,step=2))\n",
        "plt.yticks(np.arange(4,40,step=2))\n",
        "plt.xlabel(\"x\")\n",
        "plt.ylabel(\"y\")\n",
        "plt.title(\"Linear regression\")"
      ],
      "execution_count": null,
      "outputs": [
        {
          "output_type": "execute_result",
          "data": {
            "text/plain": [
              "Text(0.5, 1.0, 'Linear regression')"
            ]
          },
          "metadata": {
            "tags": []
          },
          "execution_count": 18
        },
        {
          "output_type": "display_data",
          "data": {
            "image/png": "[encoded data removed]",
            "text/plain": [
              "<Figure size 432x288 with 1 Axes>"
            ]
          },
          "metadata": {
            "tags": [],
            "needs_background": "light"
          }
        }
      ]
    },
    {
      "cell_type": "code",
      "metadata": {
        "id": "DO5204WWtb4G"
      },
      "source": [
        "#define hypothesis\n",
        "def hypothesis(theta_array,x):\n",
        "  return theta_array[0] + theta_array[1]*x"
      ],
      "execution_count": null,
      "outputs": []
    },
    {
      "cell_type": "code",
      "metadata": {
        "id": "FRAi4gU2ylze"
      },
      "source": [
        "def cost_function(theta_array,x,y,m):\n",
        "  total_err=0\n",
        "  for i in range(m):\n",
        "    total_err+=(theta_array[0]+theta_array[1]*x[i]-y[i])**2\n",
        "\n",
        "  return total_err/(2*m)\n",
        "\n"
      ],
      "execution_count": null,
      "outputs": []
    },
    {
      "cell_type": "code",
      "metadata": {
        "id": "x2v-1_louoPn"
      },
      "source": [
        "def grad_desc(theta_array,x,y,alpha,m):\n",
        "  summation_0=0\n",
        "  summation_1=0\n",
        "\n",
        "  for i in range(m):\n",
        "    summation_0+=((theta_array[0]+theta_array[1]*x[i])-y[i])\n",
        "    summation_1+=x[i]*((theta_array[0]+theta_array[1]*x[i])-y[i])\n",
        "\n",
        "  new_theta_0=theta_array[0]-alpha*(summation_0)/m\n",
        "  new_theta_1=theta_array[1]-alpha*(summation_1)/m\n",
        "\n",
        "  updated_theta_array=[new_theta_0,new_theta_1]\n",
        "  print(updated_theta_array)\n",
        "  return updated_theta_array"
      ],
      "execution_count": null,
      "outputs": []
    },
    {
      "cell_type": "code",
      "metadata": {
        "id": "cDA1dhyrt639"
      },
      "source": [
        "def training(x,y,alpha,iters):\n",
        "  theta_0=0\n",
        "  theta_1=0\n",
        "  theta_array=[theta_0,theta_1]\n",
        "\n",
        "  m=x.size #size of datasets\n",
        "  cost_fun_values=[]\n",
        "\n",
        "  for i in range(iters):\n",
        "    theta_array=grad_desc(theta_array,x,y,alpha,m)\n",
        "\n",
        "    cost_fun_values.append(cost_function(theta_array,x,y,m))\n",
        "    if(i%5==0):\n",
        "      y_new=x*theta_array[1]+theta_array[0] #linear regression line\n",
        "      plt.plot(x,y_new,'r')\n",
        "      plt.scatter(x,y)\n",
        "      plt.show()\n",
        "\n",
        "  x=np.arange(0,len(cost_fun_values),step=1)\n",
        "  plt.plot(x,cost_fun_values,\"-b\")\n",
        "  plt.xlabel(\"num of iter\")\n",
        "  plt.ylabel(\"cost/loss\")\n",
        "  plt.title(\"cost fun curve\")\n",
        "  plt.show()\n",
        "  return theta_array\n"
      ],
      "execution_count": null,
      "outputs": []
    },
    {
      "cell_type": "code",
      "metadata": {
        "id": "4m6CJj-ww7FX"
      },
      "source": [
        "training_data=pd.read_csv(\"ex1data1.csv\")\n",
        "cleaning_dataset=training_data.dropna() #drop observation for NaN\n"
      ],
      "execution_count": null,
      "outputs": []
    },
    {
      "cell_type": "code",
      "metadata": {
        "id": "XVq8UqTvw7z6",
        "colab": {
          "base_uri": "https://localhost:8080/",
          "height": 419
        },
        "outputId": "ef543f9a-9daa-4522-e1fb-8b8b944f5293"
      },
      "source": [
        "cleaning_dataset"
      ],
      "execution_count": null,
      "outputs": [
        {
          "output_type": "execute_result",
          "data": {
            "text/html": [
              "<div>\n",
              "<style scoped>\n",
              "    .dataframe tbody tr th:only-of-type {\n",
              "        vertical-align: middle;\n",
              "    }\n",
              "\n",
              "    .dataframe tbody tr th {\n",
              "        vertical-align: top;\n",
              "    }\n",
              "\n",
              "    .dataframe thead th {\n",
              "        text-align: right;\n",
              "    }\n",
              "</style>\n",
              "<table border=\"1\" class=\"dataframe\">\n",
              "  <thead>\n",
              "    <tr style=\"text-align: right;\">\n",
              "      <th></th>\n",
              "      <th>x</th>\n",
              "      <th>y</th>\n",
              "    </tr>\n",
              "  </thead>\n",
              "  <tbody>\n",
              "    <tr>\n",
              "      <th>0</th>\n",
              "      <td>6.1101</td>\n",
              "      <td>17.59200</td>\n",
              "    </tr>\n",
              "    <tr>\n",
              "      <th>1</th>\n",
              "      <td>5.5277</td>\n",
              "      <td>9.13020</td>\n",
              "    </tr>\n",
              "    <tr>\n",
              "      <th>2</th>\n",
              "      <td>8.5186</td>\n",
              "      <td>13.66200</td>\n",
              "    </tr>\n",
              "    <tr>\n",
              "      <th>3</th>\n",
              "      <td>7.0032</td>\n",
              "      <td>11.85400</td>\n",
              "    </tr>\n",
              "    <tr>\n",
              "      <th>4</th>\n",
              "      <td>5.8598</td>\n",
              "      <td>6.82330</td>\n",
              "    </tr>\n",
              "    <tr>\n",
              "      <th>...</th>\n",
              "      <td>...</td>\n",
              "      <td>...</td>\n",
              "    </tr>\n",
              "    <tr>\n",
              "      <th>92</th>\n",
              "      <td>5.8707</td>\n",
              "      <td>7.20290</td>\n",
              "    </tr>\n",
              "    <tr>\n",
              "      <th>93</th>\n",
              "      <td>5.3054</td>\n",
              "      <td>1.98690</td>\n",
              "    </tr>\n",
              "    <tr>\n",
              "      <th>94</th>\n",
              "      <td>8.2934</td>\n",
              "      <td>0.14454</td>\n",
              "    </tr>\n",
              "    <tr>\n",
              "      <th>95</th>\n",
              "      <td>13.3940</td>\n",
              "      <td>9.05510</td>\n",
              "    </tr>\n",
              "    <tr>\n",
              "      <th>96</th>\n",
              "      <td>5.4369</td>\n",
              "      <td>0.61705</td>\n",
              "    </tr>\n",
              "  </tbody>\n",
              "</table>\n",
              "<p>97 rows × 2 columns</p>\n",
              "</div>"
            ],
            "text/plain": [
              "          x         y\n",
              "0    6.1101  17.59200\n",
              "1    5.5277   9.13020\n",
              "2    8.5186  13.66200\n",
              "3    7.0032  11.85400\n",
              "4    5.8598   6.82330\n",
              "..      ...       ...\n",
              "92   5.8707   7.20290\n",
              "93   5.3054   1.98690\n",
              "94   8.2934   0.14454\n",
              "95  13.3940   9.05510\n",
              "96   5.4369   0.61705\n",
              "\n",
              "[97 rows x 2 columns]"
            ]
          },
          "metadata": {
            "tags": []
          },
          "execution_count": 25
        }
      ]
    },
    {
      "cell_type": "code",
      "metadata": {
        "id": "Nhjt2OK-xmQM"
      },
      "source": [
        "x_train=cleaning_dataset['x']"
      ],
      "execution_count": null,
      "outputs": []
    },
    {
      "cell_type": "code",
      "metadata": {
        "id": "RgBlCCxAyEiM"
      },
      "source": [
        "y_train=cleaning_dataset['y']"
      ],
      "execution_count": null,
      "outputs": []
    },
    {
      "cell_type": "code",
      "metadata": {
        "id": "53vJ3PopyXrd",
        "colab": {
          "base_uri": "https://localhost:8080/"
        },
        "outputId": "66373136-a2ed-4bd3-c9f5-649964e403e2"
      },
      "source": [
        "x_train.shape"
      ],
      "execution_count": null,
      "outputs": [
        {
          "output_type": "execute_result",
          "data": {
            "text/plain": [
              "(97,)"
            ]
          },
          "metadata": {
            "tags": []
          },
          "execution_count": 28
        }
      ]
    },
    {
      "cell_type": "code",
      "metadata": {
        "id": "aDFh5foKycrg"
      },
      "source": [
        "x_value=x_train.values.reshape(x_train.size)"
      ],
      "execution_count": null,
      "outputs": []
    },
    {
      "cell_type": "code",
      "metadata": {
        "id": "jujmzgRDyqyU",
        "colab": {
          "base_uri": "https://localhost:8080/"
        },
        "outputId": "f8a43fe4-d156-43d7-d41d-1c2e53a78bde"
      },
      "source": [
        "y_train.shape"
      ],
      "execution_count": null,
      "outputs": [
        {
          "output_type": "execute_result",
          "data": {
            "text/plain": [
              "(97,)"
            ]
          },
          "metadata": {
            "tags": []
          },
          "execution_count": 30
        }
      ]
    },
    {
      "cell_type": "code",
      "metadata": {
        "id": "4InKVEAuyuBv"
      },
      "source": [
        "y_value=y_train.values.reshape(y_train.size)"
      ],
      "execution_count": null,
      "outputs": []
    },
    {
      "cell_type": "code",
      "metadata": {
        "colab": {
          "base_uri": "https://localhost:8080/",
          "height": 1000
        },
        "id": "0EWsTE7sy4Pu",
        "outputId": "83d31002-1b5d-4495-aef6-1169dd8d2d83"
      },
      "source": [
        "alpha=0.001\n",
        "iter=100\n",
        "theta_array1=training(x_value,y_value,alpha,iter)"
      ],
      "execution_count": null,
      "outputs": [
        {
          "output_type": "stream",
          "text": [
            "[0.00583913505154639, 0.06532884974555674]\n"
          ],
          "name": "stdout"
        },
        {
          "output_type": "display_data",
          "data": {
            "image/png": "[encoded data removed]",
            "text/plain": [
              "<Figure size 432x288 with 1 Axes>"
            ]
          },
          "metadata": {
            "tags": [],
            "needs_background": "light"
          }
        },
        {
          "output_type": "stream",
          "text": [
            "[0.011139360619887441, 0.12529202736760148]\n",
            "[0.015944998425899793, 0.18033071712647958]\n",
            "[0.020296725893411638, 0.23084982748785526]\n",
            "[0.024231875796729214, 0.2772209738521627]\n",
            "[0.02778471127004, 0.3197852160330555]\n"
          ],
          "name": "stdout"
        },
        {
          "output_type": "display_data",
          "data": {
            "image/png": "[encoded data removed]",
            "text/plain": [
              "<Figure size 432x288 with 1 Axes>"
            ]
          },
          "metadata": {
            "tags": [],
            "needs_background": "light"
          }
        },
        {
          "output_type": "stream",
          "text": [
            "[0.030986678204529827, 0.3588555706502954]\n",
            "[0.03386663689247941, 0.39471931694444373]\n",
            "[0.036451074624730045, 0.42764011299897636]\n",
            "[0.03876430080760266, 0.45785993795882146]\n",
            "[0.04082862603658506, 0.4856008745525356]\n"
          ],
          "name": "stdout"
        },
        {
          "output_type": "display_data",
          "data": {
            "image/png": "[encoded data removed]",
            "text/plain": [
              "<Figure size 432x288 with 1 Axes>"
            ]
          },
          "metadata": {
            "tags": [],
            "needs_background": "light"
          }
        },
        {
          "output_type": "stream",
          "text": [
            "[0.042664526445921086, 0.5110667450489411]\n",
            "[0.04429079454477121, 0.5344446126993831]\n",
            "[0.045724677651068406, 0.5559061597258739]\n",
            "[0.04698200494283254, 0.5756089520059764]\n",
            "[0.048077304062857734, 0.5936975997706391]\n"
          ],
          "name": "stdout"
        },
        {
          "output_type": "display_data",
          "data": {
            "image/png": "[encoded data removed]",
            "text/plain": [
              "<Figure size 432x288 with 1 Axes>"
            ]
          },
          "metadata": {
            "tags": [],
            "needs_background": "light"
          }
        },
        {
          "output_type": "stream",
          "text": [
            "[0.049023908135732805, 0.6103048228651792]\n",
            "[0.049834053985528176, 0.6255524284205842]\n",
            "[0.050518972277662756, 0.6395522081370786]\n",
            "[0.051088970248974554, 0.6524067617897299]\n",
            "[0.05155350763542013, 0.6642102530223913]\n"
          ],
          "name": "stdout"
        },
        {
          "output_type": "display_data",
          "data": {
            "image/png": "[encoded data removed]",
            "text/plain": [
              "<Figure size 432x288 with 1 Axes>"
            ]
          },
          "metadata": {
            "tags": [],
            "needs_background": "light"
          }
        },
        {
          "output_type": "stream",
          "text": [
            "[0.051921266356718995, 0.6750491029974826]\n",
            "[0.05220021447126981, 0.6850026270113305]\n",
            "[0.05239766487245787, 0.694143618764652]\n",
            "[0.052520329158736, 0.7025388865921656]\n",
            "[0.0525743670743089, 0.7102497456014292]\n"
          ],
          "name": "stdout"
        },
        {
          "output_type": "display_data",
          "data": {
            "image/png": "[encoded data removed]",
            "text/plain": [
              "<Figure size 432x288 with 1 Axes>"
            ]
          },
          "metadata": {
            "tags": [],
            "needs_background": "light"
          }
        },
        {
          "output_type": "stream",
          "text": [
            "[0.05256543188462244, 0.7173324693462102]\n",
            "[0.052498712020913, 0.7238387043616075]\n",
            "[0.052378969300588635, 0.7298158506145683]\n",
            "[0.052210574004989685, 0.7353074106723634]\n",
            "[0.05199753707292674, 0.7403533101611427]\n"
          ],
          "name": "stdout"
        },
        {
          "output_type": "display_data",
          "data": {
            "image/png": "[encoded data removed]",
            "text/plain": [
              "<Figure size 432x288 with 1 Axes>"
            ]
          },
          "metadata": {
            "tags": [],
            "needs_background": "light"
          }
        },
        {
          "output_type": "stream",
          "text": [
            "[0.05174353964714731, 0.7449901918752099]\n",
            "[0.05145196019138322, 0.7492516857035473]\n",
            "[0.05112589937773442, 0.7531686563619893]\n",
            "[0.05076820292772052, 0.756769430755943]\n",
            "[0.05038148257525685, 0.760080006648509]\n"
          ],
          "name": "stdout"
        },
        {
          "output_type": "display_data",
          "data": {
            "image/png": "[encoded data removed]",
            "text/plain": [
              "<Figure size 432x288 with 1 Axes>"
            ]
          },
          "metadata": {
            "tags": [],
            "needs_background": "light"
          }
        },
        {
          "output_type": "stream",
          "text": [
            "[0.049968135305977476, 0.7631242441711406]\n",
            "[0.049530361014630216, 0.7659240415875909]\n",
            "[0.04907017871061555, 0.7684994966059017]\n",
            "[0.04858944139104649, 0.7708690544267254]\n",
            "[0.04808984969089064, 0.7730496436185694]\n"
          ],
          "name": "stdout"
        },
        {
          "output_type": "display_data",
          "data": {
            "image/png": "[encoded data removed]",
            "text/plain": [
              "<Figure size 432x288 with 1 Axes>"
            ]
          },
          "metadata": {
            "tags": [],
            "needs_background": "light"
          }
        },
        {
          "output_type": "stream",
          "text": [
            "[0.04757296441074734, 0.7750568008208771]\n",
            "[0.04704021801454479, 0.7769047851935621]\n",
            "[0.04649292518185421, 0.7786066834560808]\n",
            "[0.04593229249255382, 0.7801745062898046]\n",
            "[0.04535942731518411, 0.7816192768138349]\n"
          ],
          "name": "stdout"
        },
        {
          "output_type": "display_data",
          "data": {
            "image/png": "[encoded data removed]",
            "text/plain": [
              "<Figure size 432x288 with 1 Axes>"
            ]
          },
          "metadata": {
            "tags": [],
            "needs_background": "light"
          }
        },
        {
          "output_type": "stream",
          "text": [
            "[0.04477534596446978, 0.7829511117860104]\n",
            "[0.04418098118810022, 0.7841792961272681]\n",
            "[0.043577189037919226, 0.7853123513183373]\n",
            "[0.04296475517614033, 0.7863580981726055]\n",
            "[0.04234440066304176, 0.7873237144475679]\n"
          ],
          "name": "stdout"
        },
        {
          "output_type": "display_data",
          "data": {
            "image/png": "[encoded data removed]",
            "text/plain": [
              "<Figure size 432x288 with 1 Axes>"
            ]
          },
          "metadata": {
            "tags": [],
            "needs_background": "light"
          }
        },
        {
          "output_type": "stream",
          "text": [
            "[0.04171678726877585, 0.7882157877192512]\n",
            "[0.04108252234842192, 0.7890403639091077]\n",
            "[0.04044216331619435, 0.7898029918208499]\n",
            "[0.039796221751764775, 0.7905087640153012]\n",
            "[0.03914516716894735, 0.7911623543243675]\n"
          ],
          "name": "stdout"
        },
        {
          "output_type": "display_data",
          "data": {
            "image/png": "[encoded data removed]",
            "text/plain": [
              "<Figure size 432x288 with 1 Axes>"
            ]
          },
          "metadata": {
            "tags": [],
            "needs_background": "light"
          }
        },
        {
          "output_type": "stream",
          "text": [
            "[0.03848943047450882, 0.7917680522804704]\n",
            "[0.03782940714258252, 0.7923297947150665]\n",
            "[0.03716546012807033, 0.7928511947590199]\n",
            "[0.036497922540494, 0.7933355684584569]\n",
            "[0.03582710009799258, 0.7937859592021674]\n"
          ],
          "name": "stdout"
        },
        {
          "output_type": "display_data",
          "data": {
            "image/png": "[encoded data removed]",
            "text/plain": [
              "<Figure size 432x288 with 1 Axes>"
            ]
          },
          "metadata": {
            "tags": [],
            "needs_background": "light"
          }
        },
        {
          "output_type": "stream",
          "text": [
            "[0.03515327337954313, 0.7942051601404958]\n",
            "[0.03447669989199556, 0.7945957347608668]\n",
            "[0.03379761596714823, 0.794960035771517]\n",
            "[0.033116238502839054, 0.7953002224325362]\n",
            "[0.032432766560877596, 0.7956182764618862]\n"
          ],
          "name": "stdout"
        },
        {
          "output_type": "display_data",
          "data": {
            "image/png": "[encoded data removed]",
            "text/plain": [
              "<Figure size 432x288 with 1 Axes>"
            ]
          },
          "metadata": {
            "tags": [],
            "needs_background": "light"
          }
        },
        {
          "output_type": "stream",
          "text": [
            "[0.03174738283358941, 0.7959160166335687]\n",
            "[0.031060254989775618, 0.7961951121754777]\n",
            "[0.030371536910002772, 0.7964570950656311]\n",
            "[0.029681369820322625, 0.7967033713173615]\n",
            "[0.02898988333277329, 0.7969352313365959]\n"
          ],
          "name": "stdout"
        },
        {
          "output_type": "display_data",
          "data": {
            "image/png": "[encoded data removed]",
            "text/plain": [
              "<Figure size 432x288 with 1 Axes>"
            ]
          },
          "metadata": {
            "tags": [],
            "needs_background": "light"
          }
        },
        {
          "output_type": "stream",
          "text": [
            "[0.028297196400326553, 0.797153859427523]\n",
            "[0.027603418193315916, 0.7973603425166683]\n",
            "[0.026908648903801482, 0.7975556781596447]\n",
            "[0.026212980483797003, 0.7977407818895577]\n",
            "[0.025516497322797184, 0.7979164939611982]\n"
          ],
          "name": "stdout"
        },
        {
          "output_type": "display_data",
          "data": {
            "image/png": "[encoded data removed]",
            "text/plain": [
              "<Figure size 432x288 with 1 Axes>"
            ]
          },
          "metadata": {
            "tags": [],
            "needs_background": "light"
          }
        },
        {
          "output_type": "stream",
          "text": [
            "[0.024819276869596195, 0.7980835855407029]\n",
            "[0.024121390202977964, 0.7982427643862776]\n",
            "[0.02342290255548223, 0.7983946800618309]\n",
            "[0.02272387379410461, 0.7985399287219237]\n",
            "[0.022024358861471745, 0.7986790575032824]\n"
          ],
          "name": "stdout"
        },
        {
          "output_type": "display_data",
          "data": {
            "image/png": "[encoded data removed]",
            "text/plain": [
              "<Figure size 432x288 with 1 Axes>"
            ]
          },
          "metadata": {
            "tags": [],
            "needs_background": "light"
          }
        },
        {
          "output_type": "stream",
          "text": [
            "[0.021324408180741383, 0.7988125685552258]\n",
            "[0.0206240680272101, 0.7989409227386953]\n",
            "[0.019923380869366077, 0.7990645430211375]\n",
            "[0.019222385681899226, 0.7991838175922467]\n",
            "[0.018521118232974504, 0.7992991027235198]\n"
          ],
          "name": "stdout"
        },
        {
          "output_type": "display_data",
          "data": {
            "image/png": "[encoded data removed]",
            "text/plain": [
              "<Figure size 432x288 with 1 Axes>"
            ]
          },
          "metadata": {
            "tags": [],
            "needs_background": "light"
          }
        },
        {
          "output_type": "stream",
          "text": [
            "[0.017819611347884543, 0.7994107253926883]\n",
            "[0.01711789515102379, 0.7995189856923591]\n",
            "[0.01641599728796665, 0.7996241590406088]\n",
            "[0.015713943129285514, 0.7997264982098141]\n",
            "[0.015011755957610179, 0.799826235188665]\n"
          ],
          "name": "stdout"
        },
        {
          "output_type": "display_data",
          "data": {
            "image/png": "[encoded data removed]",
            "text/plain": [
              "<Figure size 432x288 with 1 Axes>"
            ]
          },
          "metadata": {
            "tags": [],
            "needs_background": "light"
          }
        },
        {
          "output_type": "stream",
          "text": [
            "[0.014309457139306491, 0.7999235828910757]\n",
            "[0.013607066282038977, 0.8000187367245831]\n",
            "[0.012904601379378076, 0.8001118760297855]\n",
            "[0.012202078943517245, 0.8002031654014254]\n",
            "[0.011499514127077568, 0.8002927559008483]\n"
          ],
          "name": "stdout"
        },
        {
          "output_type": "display_data",
          "data": {
            "image/png": "[encoded data removed]",
            "text/plain": [
              "<Figure size 432x288 with 1 Axes>"
            ]
          },
          "metadata": {
            "tags": [],
            "needs_background": "light"
          }
        },
        {
          "output_type": "stream",
          "text": [
            "[0.01079692083489714, 0.8003807861687678]\n",
            "[0.010094311826628724, 0.8004673834465367]\n",
            "[0.009391698810901437, 0.8005526645134431]\n",
            "[0.008689092531740134, 0.800636736546941]\n"
          ],
          "name": "stdout"
        },
        {
          "output_type": "display_data",
          "data": {
            "image/png": "[encoded data removed]",
            "text/plain": [
              "<Figure size 432x288 with 1 Axes>"
            ]
          },
          "metadata": {
            "tags": [],
            "needs_background": "light"
          }
        }
      ]
    },
    {
      "cell_type": "code",
      "metadata": {
        "colab": {
          "base_uri": "https://localhost:8080/"
        },
        "id": "ZI_hxYLvvdTy",
        "outputId": "02889956-3f10-41c5-f7e5-9d2385634080"
      },
      "source": [
        "theta_array1"
      ],
      "execution_count": null,
      "outputs": [
        {
          "output_type": "execute_result",
          "data": {
            "text/plain": [
              "[0.008689092531740134, 0.800636736546941]"
            ]
          },
          "metadata": {
            "tags": []
          },
          "execution_count": 56
        }
      ]
    },
    {
      "cell_type": "code",
      "metadata": {
        "colab": {
          "base_uri": "https://localhost:8080/"
        },
        "id": "zp45UBNOvdjl",
        "outputId": "b11fc384-33f9-49ef-e401-52c5d5ac73ce"
      },
      "source": [
        "hypothesis(theta_array1,20.0)"
      ],
      "execution_count": null,
      "outputs": [
        {
          "output_type": "execute_result",
          "data": {
            "text/plain": [
              "16.02142382347056"
            ]
          },
          "metadata": {
            "tags": []
          },
          "execution_count": 57
        }
      ]
    },
    {
      "cell_type": "code",
      "metadata": {
        "colab": {
          "base_uri": "https://localhost:8080/"
        },
        "id": "YuPOoTUlvrcY",
        "outputId": "c2c35513-525b-4552-9e7b-54fb89efdc15"
      },
      "source": [
        "cost_function(theta_array1,x_value,y_value,97)"
      ],
      "execution_count": null,
      "outputs": [
        {
          "output_type": "execute_result",
          "data": {
            "text/plain": [
              "5.864868428785698"
            ]
          },
          "metadata": {
            "tags": []
          },
          "execution_count": 58
        }
      ]
    },
    {
      "cell_type": "code",
      "metadata": {
        "id": "_G6MQ9xk8W9X"
      },
      "source": [
        "X = np.array([np.ones(len(x_value)), x_value]).T     \n",
        "Y = (y_value[:, np.newaxis])"
      ],
      "execution_count": null,
      "outputs": []
    },
    {
      "cell_type": "code",
      "metadata": {
        "colab": {
          "base_uri": "https://localhost:8080/"
        },
        "id": "QOQTP2Ml8Wt-",
        "outputId": "86e707bc-9823-4d12-e45d-8ce88018e471"
      },
      "source": [
        "theta_array2 = np.linalg.inv(X.T.dot(X)).dot(X.T).dot(Y)         \n",
        "print(theta_array2)"
      ],
      "execution_count": null,
      "outputs": [
        {
          "output_type": "stream",
          "text": [
            "[[-3.89578088]\n",
            " [ 1.19303364]]\n"
          ],
          "name": "stdout"
        }
      ]
    }
  ]
}