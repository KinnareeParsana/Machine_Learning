{
  "nbformat": 4,
  "nbformat_minor": 0,
  "metadata": {
    "colab": {
      "name": "Lab_KNN.ipynb",
      "provenance": [],
      "collapsed_sections": []
    },
    "kernelspec": {
      "name": "python3",
      "display_name": "Python 3"
    }
  },
  "cells": [
    {
      "cell_type": "code",
      "metadata": {
        "id": "-8pc3kBiVy2T"
      },
      "source": [
        "import numpy as np  \n",
        "import matplotlib.pyplot as plt \n",
        "import pandas as pd \n",
        "import math\n",
        "from sklearn import metrics"
      ],
      "execution_count": null,
      "outputs": []
    },
    {
      "cell_type": "code",
      "metadata": {
        "colab": {
          "base_uri": "https://localhost:8080/",
          "height": 191
        },
        "id": "smCMzxVrWEzC",
        "outputId": "93635ffc-1e80-4a78-87dd-0b295b77a868"
      },
      "source": [
        "url = \"https://archive.ics.uci.edu/ml/machine-learning-databases/iris/iris.data\"\n",
        "Colnames = ['sepal_length','sepal_width','petal_length','petal_width','Class']\n",
        "dataset = pd.read_csv(url,names=Colnames)\n",
        "dataset.head() "
      ],
      "execution_count": null,
      "outputs": [
        {
          "output_type": "execute_result",
          "data": {
            "text/html": [
              "<div>\n",
              "<style scoped>\n",
              "    .dataframe tbody tr th:only-of-type {\n",
              "        vertical-align: middle;\n",
              "    }\n",
              "\n",
              "    .dataframe tbody tr th {\n",
              "        vertical-align: top;\n",
              "    }\n",
              "\n",
              "    .dataframe thead th {\n",
              "        text-align: right;\n",
              "    }\n",
              "</style>\n",
              "<table border=\"1\" class=\"dataframe\">\n",
              "  <thead>\n",
              "    <tr style=\"text-align: right;\">\n",
              "      <th></th>\n",
              "      <th>sepal_length</th>\n",
              "      <th>sepal_width</th>\n",
              "      <th>petal_length</th>\n",
              "      <th>petal_width</th>\n",
              "      <th>Class</th>\n",
              "    </tr>\n",
              "  </thead>\n",
              "  <tbody>\n",
              "    <tr>\n",
              "      <th>0</th>\n",
              "      <td>5.1</td>\n",
              "      <td>3.5</td>\n",
              "      <td>1.4</td>\n",
              "      <td>0.2</td>\n",
              "      <td>Iris-setosa</td>\n",
              "    </tr>\n",
              "    <tr>\n",
              "      <th>1</th>\n",
              "      <td>4.9</td>\n",
              "      <td>3.0</td>\n",
              "      <td>1.4</td>\n",
              "      <td>0.2</td>\n",
              "      <td>Iris-setosa</td>\n",
              "    </tr>\n",
              "    <tr>\n",
              "      <th>2</th>\n",
              "      <td>4.7</td>\n",
              "      <td>3.2</td>\n",
              "      <td>1.3</td>\n",
              "      <td>0.2</td>\n",
              "      <td>Iris-setosa</td>\n",
              "    </tr>\n",
              "    <tr>\n",
              "      <th>3</th>\n",
              "      <td>4.6</td>\n",
              "      <td>3.1</td>\n",
              "      <td>1.5</td>\n",
              "      <td>0.2</td>\n",
              "      <td>Iris-setosa</td>\n",
              "    </tr>\n",
              "    <tr>\n",
              "      <th>4</th>\n",
              "      <td>5.0</td>\n",
              "      <td>3.6</td>\n",
              "      <td>1.4</td>\n",
              "      <td>0.2</td>\n",
              "      <td>Iris-setosa</td>\n",
              "    </tr>\n",
              "  </tbody>\n",
              "</table>\n",
              "</div>"
            ],
            "text/plain": [
              "   sepal_length  sepal_width  petal_length  petal_width        Class\n",
              "0           5.1          3.5           1.4          0.2  Iris-setosa\n",
              "1           4.9          3.0           1.4          0.2  Iris-setosa\n",
              "2           4.7          3.2           1.3          0.2  Iris-setosa\n",
              "3           4.6          3.1           1.5          0.2  Iris-setosa\n",
              "4           5.0          3.6           1.4          0.2  Iris-setosa"
            ]
          },
          "metadata": {
            "tags": []
          },
          "execution_count": 6
        }
      ]
    },
    {
      "cell_type": "code",
      "metadata": {
        "colab": {
          "base_uri": "https://localhost:8080/",
          "height": 191
        },
        "id": "rD5oIKE-WE1Q",
        "outputId": "a8701624-7a44-4581-be55-95396a6d7514"
      },
      "source": [
        "dataset.tail()"
      ],
      "execution_count": null,
      "outputs": [
        {
          "output_type": "execute_result",
          "data": {
            "text/html": [
              "<div>\n",
              "<style scoped>\n",
              "    .dataframe tbody tr th:only-of-type {\n",
              "        vertical-align: middle;\n",
              "    }\n",
              "\n",
              "    .dataframe tbody tr th {\n",
              "        vertical-align: top;\n",
              "    }\n",
              "\n",
              "    .dataframe thead th {\n",
              "        text-align: right;\n",
              "    }\n",
              "</style>\n",
              "<table border=\"1\" class=\"dataframe\">\n",
              "  <thead>\n",
              "    <tr style=\"text-align: right;\">\n",
              "      <th></th>\n",
              "      <th>sepal_length</th>\n",
              "      <th>sepal_width</th>\n",
              "      <th>petal_length</th>\n",
              "      <th>petal_width</th>\n",
              "      <th>Class</th>\n",
              "    </tr>\n",
              "  </thead>\n",
              "  <tbody>\n",
              "    <tr>\n",
              "      <th>145</th>\n",
              "      <td>6.7</td>\n",
              "      <td>3.0</td>\n",
              "      <td>5.2</td>\n",
              "      <td>2.3</td>\n",
              "      <td>Iris-virginica</td>\n",
              "    </tr>\n",
              "    <tr>\n",
              "      <th>146</th>\n",
              "      <td>6.3</td>\n",
              "      <td>2.5</td>\n",
              "      <td>5.0</td>\n",
              "      <td>1.9</td>\n",
              "      <td>Iris-virginica</td>\n",
              "    </tr>\n",
              "    <tr>\n",
              "      <th>147</th>\n",
              "      <td>6.5</td>\n",
              "      <td>3.0</td>\n",
              "      <td>5.2</td>\n",
              "      <td>2.0</td>\n",
              "      <td>Iris-virginica</td>\n",
              "    </tr>\n",
              "    <tr>\n",
              "      <th>148</th>\n",
              "      <td>6.2</td>\n",
              "      <td>3.4</td>\n",
              "      <td>5.4</td>\n",
              "      <td>2.3</td>\n",
              "      <td>Iris-virginica</td>\n",
              "    </tr>\n",
              "    <tr>\n",
              "      <th>149</th>\n",
              "      <td>5.9</td>\n",
              "      <td>3.0</td>\n",
              "      <td>5.1</td>\n",
              "      <td>1.8</td>\n",
              "      <td>Iris-virginica</td>\n",
              "    </tr>\n",
              "  </tbody>\n",
              "</table>\n",
              "</div>"
            ],
            "text/plain": [
              "     sepal_length  sepal_width  petal_length  petal_width           Class\n",
              "145           6.7          3.0           5.2          2.3  Iris-virginica\n",
              "146           6.3          2.5           5.0          1.9  Iris-virginica\n",
              "147           6.5          3.0           5.2          2.0  Iris-virginica\n",
              "148           6.2          3.4           5.4          2.3  Iris-virginica\n",
              "149           5.9          3.0           5.1          1.8  Iris-virginica"
            ]
          },
          "metadata": {
            "tags": []
          },
          "execution_count": 7
        }
      ]
    },
    {
      "cell_type": "code",
      "metadata": {
        "colab": {
          "base_uri": "https://localhost:8080/"
        },
        "id": "uFsDSopVWE3U",
        "outputId": "4a7e22f4-311b-48f5-84a7-43e1fb57cdc3"
      },
      "source": [
        "dataset.shape"
      ],
      "execution_count": null,
      "outputs": [
        {
          "output_type": "execute_result",
          "data": {
            "text/plain": [
              "(150, 5)"
            ]
          },
          "metadata": {
            "tags": []
          },
          "execution_count": 8
        }
      ]
    },
    {
      "cell_type": "code",
      "metadata": {
        "colab": {
          "base_uri": "https://localhost:8080/"
        },
        "id": "T10qxp9FWE5m",
        "outputId": "fb485468-a119-4737-96fe-c4329107f4a6"
      },
      "source": [
        "training_dataset = dataset.values[:,0:4]\n",
        "training_dataset\n",
        "training_dataset.shape"
      ],
      "execution_count": null,
      "outputs": [
        {
          "output_type": "execute_result",
          "data": {
            "text/plain": [
              "(150, 4)"
            ]
          },
          "metadata": {
            "tags": []
          },
          "execution_count": 9
        }
      ]
    },
    {
      "cell_type": "code",
      "metadata": {
        "colab": {
          "base_uri": "https://localhost:8080/"
        },
        "id": "ay2xNYE3WE8E",
        "outputId": "b955064e-730d-4ef3-91d3-2cb636435a02"
      },
      "source": [
        "training_class_dataset = dataset.values[:,-1]\n",
        "training_class_dataset\n",
        "training_class_dataset.shape"
      ],
      "execution_count": null,
      "outputs": [
        {
          "output_type": "execute_result",
          "data": {
            "text/plain": [
              "(150,)"
            ]
          },
          "metadata": {
            "tags": []
          },
          "execution_count": 10
        }
      ]
    },
    {
      "cell_type": "code",
      "metadata": {
        "id": "L_S03o67WE-z"
      },
      "source": [
        "def euclidiean_distance(row1,row2):     \n",
        "    distance = 0.0  \n",
        "    for i in range(len(row1)):\n",
        "        distance+=(row1[i]-row2[i])**2\n",
        "    \n",
        "    return math.sqrt(distance)"
      ],
      "execution_count": null,
      "outputs": []
    },
    {
      "cell_type": "code",
      "metadata": {
        "colab": {
          "base_uri": "https://localhost:8080/"
        },
        "id": "0OcIa6c1WFA0",
        "outputId": "338b0b14-4f56-47e8-8681-1147102a4ef2"
      },
      "source": [
        "unique_list = []\n",
        "for x in training_class_dataset:\n",
        "    if x not in unique_list:\n",
        "        unique_list.append(x)\n",
        "print(unique_list)\n",
        "\n",
        "#to replcae the class with  numerical value\n",
        "for i in range(len(training_class_dataset)):\n",
        "    for k in range(len(unique_list)):\n",
        "        if(training_class_dataset[i]==unique_list[k]):\n",
        "            training_class_dataset[i]=k\n",
        "            break\n",
        "print(training_class_dataset)"
      ],
      "execution_count": null,
      "outputs": [
        {
          "output_type": "stream",
          "text": [
            "['Iris-setosa', 'Iris-versicolor', 'Iris-virginica']\n",
            "[0 0 0 0 0 0 0 0 0 0 0 0 0 0 0 0 0 0 0 0 0 0 0 0 0 0 0 0 0 0 0 0 0 0 0 0 0\n",
            " 0 0 0 0 0 0 0 0 0 0 0 0 0 1 1 1 1 1 1 1 1 1 1 1 1 1 1 1 1 1 1 1 1 1 1 1 1\n",
            " 1 1 1 1 1 1 1 1 1 1 1 1 1 1 1 1 1 1 1 1 1 1 1 1 1 1 2 2 2 2 2 2 2 2 2 2 2\n",
            " 2 2 2 2 2 2 2 2 2 2 2 2 2 2 2 2 2 2 2 2 2 2 2 2 2 2 2 2 2 2 2 2 2 2 2 2 2\n",
            " 2 2]\n"
          ],
          "name": "stdout"
        }
      ]
    },
    {
      "cell_type": "code",
      "metadata": {
        "colab": {
          "base_uri": "https://localhost:8080/"
        },
        "id": "P48UNFOJWFDO",
        "outputId": "4dc7a369-3090-410b-f09f-2298190c0afe"
      },
      "source": [
        "distance = []\n",
        "for i in range(len(training_dataset)):\n",
        "    distance.append([euclidiean_distance(training_dataset[i],training_dataset[52]),training_class_dataset[i]])\n",
        "print(distance)\n",
        "print(len(distance))"
      ],
      "execution_count": null,
      "outputs": [
        {
          "output_type": "stream",
          "text": [
            "[[4.164132562731403, 0], [4.236744032862973, 0], [4.415880433163924, 0], [4.305810028322198, 0], [4.219004621945798, 0], [3.786819245752298, 0], [4.366921112179611, 0], [4.117037770047781, 0], [4.497777228809804, 0], [4.1856899072912706, 0], [3.9824615503479754, 0], [4.132795663954366, 0], [4.316248370981448, 0], [4.813522618623497, 0], [4.171330722922843, 0], [3.9874804074753776, 0], [4.130375285612677, 0], [4.134005321718878, 0], [3.6891733491393435, 0], [4.090232267243512, 0], [3.7775653535048206, 0], [4.045985664828782, 0], [4.737087712930806, 0], [3.8105117766515306, 0], [3.897435053981016, 0], [4.024922359499622, 0], [3.9749213828703587, 0], [4.037325847637271, 0], [4.113392760240627, 0], [4.174925149029621, 0], [4.12189276910499, 0], [3.8871583451153624, 0], [4.172529209005013, 0], [4.136423575989288, 0], [4.1856899072912706, 0], [4.358898943540674, 0], [4.095119045888655, 0], [4.1856899072912706, 0], [4.572745346069471, 0], [4.0718546143004675, 0], [4.262628297189424, 0], [4.560701700396553, 0], [4.572745346069471, 0], [3.9331920878594278, 0], [3.7336309405188945, 0], [4.2555845661906435, 0], [4.038564101261735, 0], [4.386342439892263, 0], [4.021193852576621, 0], [4.194043395102154, 0], [0.26457513110645914, 1], [0.6480740698407862, 1], [0.0, 1], [1.8574175621006714, 1], [0.5830951894845308, 1], [1.315294643796591, 1], [0.6708203932499374, 1], [2.7018512172212596, 1], [0.5099019513592794, 1], [2.014944167960989, 1], [2.651414716712571, 1], [1.2247448713915892, 1], [1.6370705543744903, 1], [0.8544003745317538, 1], [1.860107523773828, 1], [0.5477225575051662, 1], [1.3638181696985865, 1], [1.5033296378372916, 1], [1.2083045973594573, 1], [1.7916472867168924, 1], [1.0535653752852738, 1], [1.2569805089976542, 1], [0.8485281374238575, 1], [0.9273618495495711, 1], [0.830662386291808, 1], [0.6000000000000003, 1], [0.346410161513776, 1], [0.31622776601683794, 1], [1.0049875621120894, 1], [1.9748417658131503, 1], [1.954482028569207, 1], [2.034698994937581, 1], [1.5684387141358127, 1], [1.0099504938362078, 1], [1.5556349186104046, 1], [1.0344080432788605, 1], [0.2828427124746193, 1], [1.1357816691600553, 1], [1.5427248620541523, 1], [1.7804493814764861, 1], [1.5968719422671314, 1], [0.8660254037844396, 1], [1.5362291495737221, 1], [2.6570660511172854, 1], [1.5427248620541518, 1], [1.4247806848775009, 1], [1.4177446878757827, 1], [0.964365076099296, 1], [2.7147743920996463, 1], [1.486606874731851, 1], [1.6155494421403511, 2], [1.2529964086141672, 2], [1.1874342087037917, 2], [0.9899494936611664, 2], [1.212435565298214, 2], [1.9364916731037076, 2], [2.1354156504062622, 2], [1.4999999999999993, 2], [1.1401754250991376, 2], [1.6673332000533063, 2], [0.6782329983125268, 2], [0.8544003745317528, 2], [0.8602325267042625, 2], [1.4352700094407325, 2], [1.4662878298615183, 2], [1.0295630140986995, 2], [0.787400787401181, 2], [2.20454076850486, 2], [2.351595203260969, 2], [1.2767145334803707, 2], [1.1357816691600544, 2], [1.4247806848775015, 2], [2.0542638584174133, 2], [0.7810249675906658, 2], [1.0392304845413263, 2], [1.183215956619923, 2], [0.8246211251235325, 2], [0.8602325267042633, 2], [1.090871211463571, 2], [0.9591663046625434, 2], [1.3928388277184114, 2], [1.9974984355438177, 2], [1.1489125293076055, 2], [0.7000000000000004, 2], [1.1789826122551597, 2], [1.6522711641858299, 2], [1.3228756555322951, 2], [0.8366600265340753, 2], [0.9591663046625444, 2], [0.7810249675906655, 2], [1.1575836902790222, 2], [0.8246211251235317, 2], [1.2529964086141672, 2], [1.2884098726725124, 2], [1.3114877048604001, 2], [0.8831760866327845, 2], [0.9433981132056607, 2], [0.7141428428542852, 2], [1.212435565298214, 2], [1.0677078252031311, 2]]\n",
            "150\n"
          ],
          "name": "stdout"
        }
      ]
    },
    {
      "cell_type": "code",
      "metadata": {
        "id": "YP-ee-3PWFG9"
      },
      "source": [
        "distance.sort()"
      ],
      "execution_count": null,
      "outputs": []
    },
    {
      "cell_type": "code",
      "metadata": {
        "colab": {
          "base_uri": "https://localhost:8080/"
        },
        "id": "I4C5nkk9WFJm",
        "outputId": "293ef486-a24f-4b00-de95-f9f2547c1d00"
      },
      "source": [
        "distance"
      ],
      "execution_count": null,
      "outputs": [
        {
          "output_type": "execute_result",
          "data": {
            "text/plain": [
              "[[0.0, 1],\n",
              " [0.26457513110645914, 1],\n",
              " [0.2828427124746193, 1],\n",
              " [0.31622776601683794, 1],\n",
              " [0.346410161513776, 1],\n",
              " [0.5099019513592794, 1],\n",
              " [0.5477225575051662, 1],\n",
              " [0.5830951894845308, 1],\n",
              " [0.6000000000000003, 1],\n",
              " [0.6480740698407862, 1],\n",
              " [0.6708203932499374, 1],\n",
              " [0.6782329983125268, 2],\n",
              " [0.7000000000000004, 2],\n",
              " [0.7141428428542852, 2],\n",
              " [0.7810249675906655, 2],\n",
              " [0.7810249675906658, 2],\n",
              " [0.787400787401181, 2],\n",
              " [0.8246211251235317, 2],\n",
              " [0.8246211251235325, 2],\n",
              " [0.830662386291808, 1],\n",
              " [0.8366600265340753, 2],\n",
              " [0.8485281374238575, 1],\n",
              " [0.8544003745317528, 2],\n",
              " [0.8544003745317538, 1],\n",
              " [0.8602325267042625, 2],\n",
              " [0.8602325267042633, 2],\n",
              " [0.8660254037844396, 1],\n",
              " [0.8831760866327845, 2],\n",
              " [0.9273618495495711, 1],\n",
              " [0.9433981132056607, 2],\n",
              " [0.9591663046625434, 2],\n",
              " [0.9591663046625444, 2],\n",
              " [0.964365076099296, 1],\n",
              " [0.9899494936611664, 2],\n",
              " [1.0049875621120894, 1],\n",
              " [1.0099504938362078, 1],\n",
              " [1.0295630140986995, 2],\n",
              " [1.0344080432788605, 1],\n",
              " [1.0392304845413263, 2],\n",
              " [1.0535653752852738, 1],\n",
              " [1.0677078252031311, 2],\n",
              " [1.090871211463571, 2],\n",
              " [1.1357816691600544, 2],\n",
              " [1.1357816691600553, 1],\n",
              " [1.1401754250991376, 2],\n",
              " [1.1489125293076055, 2],\n",
              " [1.1575836902790222, 2],\n",
              " [1.1789826122551597, 2],\n",
              " [1.183215956619923, 2],\n",
              " [1.1874342087037917, 2],\n",
              " [1.2083045973594573, 1],\n",
              " [1.212435565298214, 2],\n",
              " [1.212435565298214, 2],\n",
              " [1.2247448713915892, 1],\n",
              " [1.2529964086141672, 2],\n",
              " [1.2529964086141672, 2],\n",
              " [1.2569805089976542, 1],\n",
              " [1.2767145334803707, 2],\n",
              " [1.2884098726725124, 2],\n",
              " [1.3114877048604001, 2],\n",
              " [1.315294643796591, 1],\n",
              " [1.3228756555322951, 2],\n",
              " [1.3638181696985865, 1],\n",
              " [1.3928388277184114, 2],\n",
              " [1.4177446878757827, 1],\n",
              " [1.4247806848775009, 1],\n",
              " [1.4247806848775015, 2],\n",
              " [1.4352700094407325, 2],\n",
              " [1.4662878298615183, 2],\n",
              " [1.486606874731851, 1],\n",
              " [1.4999999999999993, 2],\n",
              " [1.5033296378372916, 1],\n",
              " [1.5362291495737221, 1],\n",
              " [1.5427248620541518, 1],\n",
              " [1.5427248620541523, 1],\n",
              " [1.5556349186104046, 1],\n",
              " [1.5684387141358127, 1],\n",
              " [1.5968719422671314, 1],\n",
              " [1.6155494421403511, 2],\n",
              " [1.6370705543744903, 1],\n",
              " [1.6522711641858299, 2],\n",
              " [1.6673332000533063, 2],\n",
              " [1.7804493814764861, 1],\n",
              " [1.7916472867168924, 1],\n",
              " [1.8574175621006714, 1],\n",
              " [1.860107523773828, 1],\n",
              " [1.9364916731037076, 2],\n",
              " [1.954482028569207, 1],\n",
              " [1.9748417658131503, 1],\n",
              " [1.9974984355438177, 2],\n",
              " [2.014944167960989, 1],\n",
              " [2.034698994937581, 1],\n",
              " [2.0542638584174133, 2],\n",
              " [2.1354156504062622, 2],\n",
              " [2.20454076850486, 2],\n",
              " [2.351595203260969, 2],\n",
              " [2.651414716712571, 1],\n",
              " [2.6570660511172854, 1],\n",
              " [2.7018512172212596, 1],\n",
              " [2.7147743920996463, 1],\n",
              " [3.6891733491393435, 0],\n",
              " [3.7336309405188945, 0],\n",
              " [3.7775653535048206, 0],\n",
              " [3.786819245752298, 0],\n",
              " [3.8105117766515306, 0],\n",
              " [3.8871583451153624, 0],\n",
              " [3.897435053981016, 0],\n",
              " [3.9331920878594278, 0],\n",
              " [3.9749213828703587, 0],\n",
              " [3.9824615503479754, 0],\n",
              " [3.9874804074753776, 0],\n",
              " [4.021193852576621, 0],\n",
              " [4.024922359499622, 0],\n",
              " [4.037325847637271, 0],\n",
              " [4.038564101261735, 0],\n",
              " [4.045985664828782, 0],\n",
              " [4.0718546143004675, 0],\n",
              " [4.090232267243512, 0],\n",
              " [4.095119045888655, 0],\n",
              " [4.113392760240627, 0],\n",
              " [4.117037770047781, 0],\n",
              " [4.12189276910499, 0],\n",
              " [4.130375285612677, 0],\n",
              " [4.132795663954366, 0],\n",
              " [4.134005321718878, 0],\n",
              " [4.136423575989288, 0],\n",
              " [4.164132562731403, 0],\n",
              " [4.171330722922843, 0],\n",
              " [4.172529209005013, 0],\n",
              " [4.174925149029621, 0],\n",
              " [4.1856899072912706, 0],\n",
              " [4.1856899072912706, 0],\n",
              " [4.1856899072912706, 0],\n",
              " [4.194043395102154, 0],\n",
              " [4.219004621945798, 0],\n",
              " [4.236744032862973, 0],\n",
              " [4.2555845661906435, 0],\n",
              " [4.262628297189424, 0],\n",
              " [4.305810028322198, 0],\n",
              " [4.316248370981448, 0],\n",
              " [4.358898943540674, 0],\n",
              " [4.366921112179611, 0],\n",
              " [4.386342439892263, 0],\n",
              " [4.415880433163924, 0],\n",
              " [4.497777228809804, 0],\n",
              " [4.560701700396553, 0],\n",
              " [4.572745346069471, 0],\n",
              " [4.572745346069471, 0],\n",
              " [4.737087712930806, 0],\n",
              " [4.813522618623497, 0]]"
            ]
          },
          "metadata": {
            "tags": []
          },
          "execution_count": 15
        }
      ]
    },
    {
      "cell_type": "code",
      "metadata": {
        "id": "vH2GqhrqWFLa"
      },
      "source": [
        "nearest_neighbour = 7"
      ],
      "execution_count": null,
      "outputs": []
    },
    {
      "cell_type": "code",
      "metadata": {
        "colab": {
          "base_uri": "https://localhost:8080/"
        },
        "id": "lP3xHZTuWFNs",
        "outputId": "9bced5d4-cd1e-47e3-a975-6f765349f50e"
      },
      "source": [
        "identify = [0 for i in range(len(unique_list))]\n",
        "for i in range(nearest_neighbour):\n",
        "    identify[distance[i][1]]+=1\n",
        "print(identify)"
      ],
      "execution_count": null,
      "outputs": [
        {
          "output_type": "stream",
          "text": [
            "[0, 7, 0]\n"
          ],
          "name": "stdout"
        }
      ]
    },
    {
      "cell_type": "code",
      "metadata": {
        "colab": {
          "base_uri": "https://localhost:8080/"
        },
        "id": "u0fOUktPWFQd",
        "outputId": "d17e06b2-57eb-431a-8a58-1b4b708cad14"
      },
      "source": [
        "unique_list"
      ],
      "execution_count": null,
      "outputs": [
        {
          "output_type": "execute_result",
          "data": {
            "text/plain": [
              "['Iris-setosa', 'Iris-versicolor', 'Iris-virginica']"
            ]
          },
          "metadata": {
            "tags": []
          },
          "execution_count": 30
        }
      ]
    },
    {
      "cell_type": "code",
      "metadata": {
        "colab": {
          "base_uri": "https://localhost:8080/"
        },
        "id": "2wdzBR-wWFSa",
        "outputId": "2a391687-3f99-4fbe-d668-e62ff0c9efe3"
      },
      "source": [
        "print(\"Predicted class: \",unique_list[identify.index(max(identify))])"
      ],
      "execution_count": null,
      "outputs": [
        {
          "output_type": "stream",
          "text": [
            "Predicted class:  Iris-versicolor\n"
          ],
          "name": "stdout"
        }
      ]
    }
  ]
}